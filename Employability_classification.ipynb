{
 "cells": [
  {
   "cell_type": "code",
   "execution_count": null,
   "metadata": {},
   "outputs": [],
   "source": [
    "#Student-Employability-classification Datasets\n",
    "\n",
    "df = pd.read_excel('Student-Employability-Datasets.xlsx')\n",
    "x=df.drop(columns='Name of Student') \n",
    "y=df['CLASS'] \n",
    "x=x.drop(columns='CLASS')\n",
    "\n",
    "y.replace('Employable',1,inplace=True)\n",
    "y.replace('LessEmployable',0,inplace=True)\n",
    "\n",
    "y=np.array(y)\n",
    "x=np.array(x)\n",
    "[X_train,X_test,Y_train,Y_test] = train_test_split(x,y,test_size=0.3,random_state=6)\n",
    "svc = SVC()\n",
    "#svc = SVC(kernel='linear', C=float(\"inf\"))\n",
    "svc.fit(X_train,Y_train)\n",
    "ypred = svc.predict(X_test)\n",
    "svc=SVC()\n",
    "svc.fit(X_train,Y_train)\n",
    "y_pred = svc.predict(X_test)\n",
    "print(\"Confusion Matrix:\")\n",
    "print(sm.confusion_matrix(Y_test,y_pred))\n",
    "print(\"Accuracy score:\")\n",
    "print(sm.accuracy_score(Y_test,y_pred))\n",
    "print(\"Complete report:\")\n",
    "print(sm.classification_report(Y_test,y_pred))"
   ]
  }
 ],
 "metadata": {
  "language_info": {
   "name": "python"
  },
  "orig_nbformat": 4
 },
 "nbformat": 4,
 "nbformat_minor": 2
}
